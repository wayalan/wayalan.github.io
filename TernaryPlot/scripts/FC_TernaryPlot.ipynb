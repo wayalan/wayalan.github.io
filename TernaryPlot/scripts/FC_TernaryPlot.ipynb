{
 "cells": [
  {
   "cell_type": "markdown",
   "metadata": {},
   "source": [
    "# Nobelplot"
   ]
  },
  {
   "cell_type": "markdown",
   "metadata": {},
   "source": [
    "## Preliminaries"
   ]
  },
  {
   "cell_type": "code",
   "execution_count": 1,
   "metadata": {
    "collapsed": true
   },
   "outputs": [],
   "source": [
    "from bokeh.layouts import row\n",
    "from bokeh.plotting import figure, show, output_file, ColumnDataSource\n",
    "from bokeh.models import HoverTool\n",
    "from bokeh.models.glyphs import Text\n",
    "from collections import OrderedDict\n",
    "import csv\n",
    "import math"
   ]
  },
  {
   "cell_type": "code",
   "execution_count": 2,
   "metadata": {
    "collapsed": true
   },
   "outputs": [],
   "source": [
    "plotwidth = 700\n",
    "boundary = 50\n",
    "\n",
    "def triple2ternary(triple, pw=800):\n",
    "    # normalize \n",
    "    triple = [float(i)/sum(triple) for i in triple]\n",
    "    y = triple[2] * math.sin(math.radians(60));\n",
    "    x = 1 - triple[0] - y * 1/math.tan(math.radians(60));\n",
    "    y = 1-y\n",
    "    return pw*x,pw*y\n",
    "\n",
    "def citation2size(cit):\n",
    "    return int(plotwidth/440 * (round(math.sqrt(400.*float(cit)))+4))\n",
    "    #return int(float(abs(cit))*100 + 10)"
   ]
  },
  {
   "cell_type": "code",
   "execution_count": 6,
   "metadata": {
    "collapsed": true
   },
   "outputs": [],
   "source": [
    "# https://stackoverflow.com/questions/19486369/extract-csv-file-specific-columns-to-list-in-python/19487003\n",
    "with open('../data/transdiagnosis_sig.csv', 'r', encoding='utf-8-sig') as infile:\n",
    "  # read the file as a dictionary for each row ({header : value})\n",
    "  reader = csv.DictReader(infile)\n",
    "  datain = {}\n",
    "  for row in reader:\n",
    "    for header, value in row.items():\n",
    "      try:\n",
    "        datain[header].append(value.replace(u'\\xa0', u' '))\n",
    "      except KeyError:\n",
    "        datain[header] = [value.replace(u'\\xa0', u' ')]\n",
    "\n",
    "datain['x'] = [triple2ternary([float(i),float(j),float(k)], plotwidth)[0] for i,j,k in zip(datain['MDD-HC'], datain['BIP-HC'], datain['SCZ-HC'])]\n",
    "datain['y'] = [triple2ternary([float(i),float(j),float(k)], plotwidth)[1] for i,j,k in zip(datain['MDD-HC'], datain['BIP-HC'], datain['SCZ-HC'])]\n",
    "datain['color'] = ['#F4BB41' if i == \"Transdiagnosis\" else '#081F5C' if i == \"MDD-Specific\" else '#4EAD5B' if i == \"BIP-Specific\" else '#B02418' if i == \"SCZ-Specific\" else '#FFFFFF' for i in datain['Discipline']]\n",
    "datain['alpha'] = [0.9 if i else 0.05 for i in datain['Discipline']]\n",
    "datain['line_color'] = [\"#1a1919\" if i else \"#b4b5b4\" for i in datain['Discipline']]\n",
    "#datain['color'] = ['#D4433D' if i == \"CONa\" else '#D4433D' if i == \"CONb\" else '#D4433D' if i == \"CONc\" else '#5B89BB' if i == \"DMNa\" else '#5B89BB' if i == \"DMNb\" else '#5B89BB' if i == \"DMNc\" else '#75B567' if i == \"DANa\" else '#75B567' if i == \"DANb\" else '#F1923C' if i == \"LMN\" else '#DAD07B' if i == \"SVNa\" else '#DAD07B' if i == \"SVNb\" else '#A56A45' if i == \"SMNa\" else '#A56A45' if i == \"SMNb\" else '#A56A45' if i == \"TempPar\" else '#E993C3' if i == \"VSNc\" else '#E993C3' if i == \"VSNp\" else '#A3A3A3' for i in datain['Discipline']]\n",
    "#datain['colordark'] = ['#205483' if i == \"within-CON\" else '#96932c' if i == \"between-CON\" else '#b26d24' for i in datain['Discipline']]\n",
    "datain['size'] = [citation2size(i) for i in datain['Combined ES']]\n",
    "datain['titletruncated'] = [(i[:65] + '..') if len(i) > 65 else i for i in datain['Title']]\n",
    "\n",
    "source = ColumnDataSource(data=dict(\n",
    "    x = datain['x'],\n",
    "    y = datain['y'],\n",
    "    color = datain['color'],\n",
    "    alpha = datain['alpha'],\n",
    "    line_color = datain['line_color'],\n",
    "    #colordark = datain['colordark'],\n",
    "    size = datain['size'],\n",
    "    discipline = datain['Discipline'],\n",
    "    publicationyear = datain['FC Number'],\n",
    "    c_MDD = datain['MDD-HC'],\n",
    "    c_BIP = datain['BIP-HC'],\n",
    "    c_SCZ = datain['SCZ-HC'],\n",
    "    c_total = datain['Combined ES'],\n",
    "    title = datain['titletruncated'],\n",
    "))"
   ]
  },
  {
   "cell_type": "code",
   "execution_count": 7,
   "metadata": {
    "collapsed": true
   },
   "outputs": [],
   "source": [
    "# https://bokeh.pydata.org/en/latest/docs/user_guide/tools.html\n",
    "hover = HoverTool(names=[\"papers\"], tooltips=\"\"\"\n",
    "    <div style=\"margin-bottom: 10px;font-size: 12px\">\n",
    "        <span style=\"\">@title</br></span>\n",
    "    </div>\n",
    "    <div style=\"font-size: 12px;font-weight: bold\">\n",
    "        Effect Size: <span style=\"color: #F4BB41\"> @c_total </span> = <span style=\"color: #081F5C\">@c_MDD </span> + <span style=\"color: #4EAD5B\">@c_BIP </span> + <span style=\"color: #B02418\">@c_SCZ </span>\n",
    "    </div>\n",
    "    \"\"\"\n",
    ")"
   ]
  },
  {
   "cell_type": "code",
   "execution_count": 8,
   "metadata": {
    "collapsed": true
   },
   "outputs": [],
   "source": [
    "nobelplot = figure(title=\"The Effect Size of the Transdiagnostic & Illness-Specific FC\", tools=[hover,\"wheel_zoom\",\"pan\",\"box_zoom\",\"reset\"], toolbar_location=\"right\",\n",
    "            x_range=[0-boundary, plotwidth+boundary], y_range=[0-0.2*boundary, plotwidth+1.8*boundary], active_drag=\"pan\", active_scroll=\"wheel_zoom\",plot_width=plotwidth, plot_height=plotwidth)\n",
    "\n",
    "nobelplot.patch([plotwidth*0.1,plotwidth*0.9,plotwidth*0.5,plotwidth*0.1], [plotwidth,plotwidth,plotwidth-0.8*plotwidth*math.sqrt(3)/2,plotwidth], alpha=1, line_width=0, color=\"#ede4ea\")\n",
    "nobelplot.line(x=[0,plotwidth,0.5*plotwidth,0], y=[plotwidth,plotwidth,plotwidth-plotwidth*math.sqrt(3)/2,plotwidth], line_color=\"#1a1919\", line_width=2, line_alpha=1)\n",
    "nobelplot.circle('x', 'y', size=\"size\", fill_color=\"color\", name=\"papers\", fill_alpha=\"alpha\", line_alpha=\"alpha\", line_color=\"line_color\", line_width=1.5, source=source)\n",
    "\n",
    "source2 = ColumnDataSource(dict(x=[boundary/2+70,plotwidth-boundary/2-45,plotwidth/2], y=[plotwidth+boundary/3,plotwidth+boundary/3,plotwidth-1.09*plotwidth*math.sqrt(3)/2], text=[\"MDD - HC\",\"BIP - HC\",\"SCZ - HC\"], cols=[\"#205483\",\"#b26d24\",\"#96932c\"], text_align=[\"left\",\"right\",\"center\"]))\n",
    "glyph = Text(x=\"x\", y=\"y\", text=\"text\", text_color=\"cols\", text_align=\"center\", text_font_size=\"18pt\" )\n",
    "nobelplot.add_glyph(source2, glyph)\n",
    "\n",
    "nobelplot.axis.visible = False\n",
    "nobelplot.xgrid.visible = False\n",
    "nobelplot.ygrid.visible = False\n",
    "#nobelplot.outline_line_color = None\n",
    "\n",
    "output_file(\"../FC_TernaryPlot.html\", title=\"Nobel plot\")\n",
    "show(nobelplot)  # open a browser"
   ]
  },
  {
   "cell_type": "code",
   "execution_count": null,
   "metadata": {
    "collapsed": true
   },
   "outputs": [],
   "source": []
  },
  {
   "cell_type": "code",
   "execution_count": null,
   "metadata": {
    "collapsed": true
   },
   "outputs": [],
   "source": []
  }
 ],
 "metadata": {
  "kernelspec": {
   "display_name": "Python 3",
   "language": "python",
   "name": "python3"
  },
  "language_info": {
   "codemirror_mode": {
    "name": "ipython",
    "version": 3
   },
   "file_extension": ".py",
   "mimetype": "text/x-python",
   "name": "python",
   "nbconvert_exporter": "python",
   "pygments_lexer": "ipython3",
   "version": "3.6.8"
  }
 },
 "nbformat": 4,
 "nbformat_minor": 2
}
